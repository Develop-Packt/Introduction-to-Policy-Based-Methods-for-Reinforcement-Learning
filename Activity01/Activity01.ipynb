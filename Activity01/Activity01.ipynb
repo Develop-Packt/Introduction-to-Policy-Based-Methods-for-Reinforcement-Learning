{
 "cells": [
  {
   "cell_type": "code",
   "execution_count": null,
   "metadata": {},
   "outputs": [],
   "source": [
    "import os\n",
    "import gym\n",
    "\n",
    "from ddpg import *"
   ]
  },
  {
   "cell_type": "code",
   "execution_count": null,
   "metadata": {},
   "outputs": [],
   "source": [
    "env = gym.make(\"LunarLanderContinuous-v2\")\n",
    "\n",
    "agent = Agent(\n",
    "    alpha=0.000025, beta=0.00025, inp_dimensions=[8], tau=0.001,\n",
    "    env=env, bs=64, l1_size=400, l2_size=300, nb_actions=2)\n",
    "\n",
    "np.random.seed(0)\n",
    "\n",
    "history = []\n",
    "for i in np.arange(1000):\n",
    "    observation = env.reset()\n",
    "    score = 0\n",
    "    done = False\n",
    "    while not done:\n",
    "        action = agent.select_action(observation)\n",
    "        state_new, reward, done, info = env.step(action)\n",
    "        agent.remember(observation, action, reward, state_new, int(done))\n",
    "        agent.learn()\n",
    "        score += reward\n",
    "        observation = state_new\n",
    "        env.render() # Uncomment to see the game window\n",
    "    history.append(score)"
   ]
  },
  {
   "cell_type": "code",
   "execution_count": null,
   "metadata": {},
   "outputs": [],
   "source": []
  }
 ],
 "metadata": {
  "kernelspec": {
   "display_name": "Python 3",
   "language": "python",
   "name": "python3"
  },
  "language_info": {
   "codemirror_mode": {
    "name": "ipython",
    "version": 3
   },
   "file_extension": ".py",
   "mimetype": "text/x-python",
   "name": "python",
   "nbconvert_exporter": "python",
   "pygments_lexer": "ipython3",
   "version": "3.7.4"
  }
 },
 "nbformat": 4,
 "nbformat_minor": 2
}
