{
 "cells": [
  {
   "cell_type": "code",
   "execution_count": 1,
   "metadata": {},
   "outputs": [],
   "source": [
    "import os\n",
    "\n",
    "import gym\n",
    "import torch as T\n",
    "import numpy as np\n",
    "\n",
    "from PIL import Image"
   ]
  },
  {
   "cell_type": "code",
   "execution_count": 2,
   "metadata": {},
   "outputs": [],
   "source": [
    "device = T.device(\"cuda:0\" if T.cuda.is_available() else \"cpu\")"
   ]
  },
  {
   "cell_type": "code",
   "execution_count": 3,
   "metadata": {},
   "outputs": [],
   "source": [
    "class ReplayBuffer:\n",
    "    def __init__(self):\n",
    "        self.memory_actions = []\n",
    "        self.memory_states = []\n",
    "        self.memory_log_probs = []\n",
    "        self.memory_rewards = []\n",
    "        self.is_terminals = []\n",
    "    \n",
    "    def clear_memory(self):\n",
    "        del self.memory_actions[:]\n",
    "        del self.memory_states[:]\n",
    "        del self.memory_log_probs[:]\n",
    "        del self.memory_rewards[:]\n",
    "        del self.is_terminals[:]"
   ]
  },
  {
   "cell_type": "code",
   "execution_count": 4,
   "metadata": {},
   "outputs": [],
   "source": [
    "class ActorCritic(T.nn.Module):\n",
    "    def __init__(self, state_dimension, action_dimension, nb_latent_variables):\n",
    "        super(ActorCritic, self).__init__()\n",
    "\n",
    "        self.action_layer = T.nn.Sequential(\n",
    "            T.nn.Linear(state_dimension, nb_latent_variables),\n",
    "            T.nn.Tanh(),\n",
    "            T.nn.Linear(nb_latent_variables, nb_latent_variables),\n",
    "            T.nn.Tanh(),\n",
    "            T.nn.Linear(nb_latent_variables, action_dimension),\n",
    "            T.nn.Softmax(dim=-1)\n",
    "        )\n",
    "\n",
    "        self.value_layer = T.nn.Sequential(\n",
    "            T.nn.Linear(state_dimension, nb_latent_variables),\n",
    "            T.nn.Tanh(),\n",
    "            T.nn.Linear(nb_latent_variables, nb_latent_variables),\n",
    "            T.nn.Tanh(),\n",
    "            T.nn.Linear(nb_latent_variables, 1)\n",
    "        )\n",
    "\n",
    "    def act(self, state, memory):\n",
    "        state = T.from_numpy(state).float().to(device) \n",
    "        action_probs = self.action_layer(state)\n",
    "        dist = T.distributions.Categorical(action_probs)\n",
    "        action = dist.sample()\n",
    "\n",
    "        memory.memory_states.append(state)\n",
    "        memory.memory_actions.append(action)\n",
    "        memory.memory_log_probs.append(dist.log_prob(action))\n",
    "\n",
    "        return action.item()\n",
    "\n",
    "    def evaluate(self, state, action):\n",
    "        action_probs = self.action_layer(state)\n",
    "        dist = T.distributions.Categorical(action_probs)\n",
    "\n",
    "        action_log_probs = dist.log_prob(action)\n",
    "        dist_entropy = dist.entropy()\n",
    "\n",
    "        state_value = self.value_layer(state)\n",
    "\n",
    "        return action_log_probs, T.squeeze(state_value), dist_entropy"
   ]
  },
  {
   "cell_type": "code",
   "execution_count": 5,
   "metadata": {},
   "outputs": [],
   "source": [
    "class Agent:\n",
    "    def __init__(\n",
    "        self, state_dimension, action_dimension, nb_latent_variables,\n",
    "        lr, betas, gamma, K_epochs, eps_clip):\n",
    "        self.lr = lr\n",
    "        self.betas = betas\n",
    "        self.gamma = gamma\n",
    "        self.eps_clip = eps_clip\n",
    "        self.K_epochs = K_epochs\n",
    "        \n",
    "        self.policy = ActorCritic(\n",
    "            state_dimension,\n",
    "            action_dimension,\n",
    "            nb_latent_variables).to(device)\n",
    "        self.optimizer = T.optim.Adam(\n",
    "            self.policy.parameters(), lr=lr, betas=betas)\n",
    "        self.policy_old = ActorCritic(\n",
    "            state_dimension,\n",
    "            action_dimension,\n",
    "            nb_latent_variables).to(device)\n",
    "        self.policy_old.load_state_dict(self.policy.state_dict())\n",
    "        \n",
    "        self.MseLoss = T.nn.MSELoss()\n",
    "    \n",
    "    def update(self, memory):\n",
    "        # Monte Carlo estimate\n",
    "        rewards = []\n",
    "        discounted_reward = 0\n",
    "        for reward, is_terminal in \\\n",
    "            zip(reversed(memory.memory_rewards), reversed(memory.is_terminals)):\n",
    "            if is_terminal:\n",
    "                discounted_reward = 0\n",
    "            discounted_reward = reward + (self.gamma * discounted_reward)\n",
    "            rewards.insert(0, discounted_reward)\n",
    "        \n",
    "        # Normalize\n",
    "        rewards = T.tensor(rewards).to(device)\n",
    "        rewards = (rewards - rewards.mean()) / (rewards.std() + 1e-5)\n",
    "        \n",
    "        # Convert to Tensor\n",
    "        old_states = T.stack(memory.memory_states).to(device).detach()\n",
    "        old_actions = T.stack(memory.memory_actions).to(device).detach()\n",
    "        old_log_probs = T.stack(memory.memory_log_probs).to(device).detach()\n",
    "        \n",
    "        # Policy Optimization\n",
    "        for _ in range(self.K_epochs):\n",
    "            log_probs, state_values, dist_entropy = self.policy.evaluate(\n",
    "                old_states, old_actions)\n",
    "            \n",
    "            # Finding ratio: pi_theta / pi_theta__old\n",
    "            ratios = T.exp(log_probs - old_log_probs.detach())\n",
    "            \n",
    "            # Surrogate Loss\n",
    "            advantages = rewards - state_values.detach()\n",
    "            surr1 = ratios * advantages\n",
    "            surr2 = T.clamp(ratios, 1-self.eps_clip, 1+self.eps_clip) * advantages\n",
    "            loss = -T.min(surr1, surr2) + \\\n",
    "                0.5*self.MseLoss(state_values, rewards) - 0.01*dist_entropy\n",
    "            \n",
    "            # Backpropagation\n",
    "            self.optimizer.zero_grad()\n",
    "            loss.mean().backward()\n",
    "            self.optimizer.step()\n",
    "        \n",
    "        # New weights to old policy\n",
    "        self.policy_old.load_state_dict(self.policy.state_dict())"
   ]
  },
  {
   "cell_type": "code",
   "execution_count": 6,
   "metadata": {},
   "outputs": [],
   "source": [
    "env = gym.make(\"LunarLander-v2\")\n",
    "np.random.seed(0)"
   ]
  },
  {
   "cell_type": "code",
   "execution_count": 7,
   "metadata": {},
   "outputs": [],
   "source": [
    "render = True"
   ]
  },
  {
   "cell_type": "code",
   "execution_count": 8,
   "metadata": {},
   "outputs": [],
   "source": [
    "memory = ReplayBuffer()\n",
    "agent = Agent(\n",
    "    state_dimension=env.observation_space.shape[0],\n",
    "    action_dimension=4,\n",
    "    nb_latent_variables=64,\n",
    "    lr=0.002,\n",
    "    betas=(0.9, 0.999),\n",
    "    gamma=0.99,\n",
    "    K_epochs=4,\n",
    "    eps_clip=0.2)"
   ]
  },
  {
   "cell_type": "code",
   "execution_count": 9,
   "metadata": {},
   "outputs": [
    {
     "data": {
      "text/plain": [
       "<All keys matched successfully>"
      ]
     },
     "execution_count": 9,
     "metadata": {},
     "output_type": "execute_result"
    }
   ],
   "source": [
    "agent.policy_old.load_state_dict(T.load(\"../Exercise11.03/PPO_LunarLander-v2.pth\"))"
   ]
  },
  {
   "cell_type": "code",
   "execution_count": 10,
   "metadata": {},
   "outputs": [
    {
     "name": "stdout",
     "output_type": "stream",
     "text": [
      "Episode: 0, Reward: 272\n",
      "Episode: 1, Reward: 148\n",
      "Episode: 2, Reward: 249\n",
      "Episode: 3, Reward: 169\n",
      "Episode: 4, Reward: 35\n"
     ]
    }
   ],
   "source": [
    "for ep in range(5):\n",
    "    ep_reward = 0\n",
    "    state = env.reset()\n",
    "    \n",
    "    for t in range(300):\n",
    "        action = agent.policy_old.act(state, memory)\n",
    "        state, reward, done, _ = env.step(action)\n",
    "        \n",
    "        ep_reward += reward\n",
    "        \n",
    "        if render:\n",
    "            env.render()\n",
    "            \n",
    "            img = env.render(mode = \"rgb_array\")\n",
    "            img = Image.fromarray(img)\n",
    "            image_dir = \"./gif\"\n",
    "            if not os.path.exists(image_dir):\n",
    "                os.makedirs(image_dir)\n",
    "            img.save(os.path.join(image_dir, \"{}.jpg\".format(t)))  \n",
    "        if done:\n",
    "            break\n",
    "\n",
    "    print(\"Episode: {}, Reward: {}\".format(ep, int(ep_reward)))\n",
    "    ep_reward = 0\n",
    "    env.close()"
   ]
  },
  {
   "cell_type": "code",
   "execution_count": null,
   "metadata": {},
   "outputs": [],
   "source": []
  }
 ],
 "metadata": {
  "kernelspec": {
   "display_name": "Python 3",
   "language": "python",
   "name": "python3"
  },
  "language_info": {
   "codemirror_mode": {
    "name": "ipython",
    "version": 3
   },
   "file_extension": ".py",
   "mimetype": "text/x-python",
   "name": "python",
   "nbconvert_exporter": "python",
   "pygments_lexer": "ipython3",
   "version": "3.7.4"
  }
 },
 "nbformat": 4,
 "nbformat_minor": 2
}
